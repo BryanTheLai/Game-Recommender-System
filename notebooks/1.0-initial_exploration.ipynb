{
 "cells": [
  {
   "cell_type": "code",
   "execution_count": null,
   "metadata": {},
   "outputs": [
    {
     "name": "stdout",
     "output_type": "stream",
     "text": [
      "Current working directory: c:\\Users\\wbrya\\OneDrive\\Documents\\GitHub\\MovieLens-Recommender-System\\notebooks\n",
      "New working directory: c:\\Users\\wbrya\\OneDrive\\Documents\\GitHub\\MovieLens-Recommender-System\n"
     ]
    }
   ],
   "source": [
    "# import os\n",
    "# os.chdir('C:\\\\Users\\\\wbrya\\\\OneDrive\\\\Documents\\\\GitHub\\\\MovieLens-Recommender-System')\n",
    "# print(\"Current working directory:\", os.getcwd())"
   ]
  },
  {
   "cell_type": "code",
   "execution_count": null,
   "metadata": {},
   "outputs": [],
   "source": [
    "import pandas as pd\n",
    "import numpy as np\n",
    "import matplotlib.pyplot as plt\n",
    "import seaborn as sns "
   ]
  }
 ],
 "metadata": {
  "kernelspec": {
   "display_name": ".venv",
   "language": "python",
   "name": "python3"
  },
  "language_info": {
   "codemirror_mode": {
    "name": "ipython",
    "version": 3
   },
   "file_extension": ".py",
   "mimetype": "text/x-python",
   "name": "python",
   "nbconvert_exporter": "python",
   "pygments_lexer": "ipython3",
   "version": "3.10.11"
  }
 },
 "nbformat": 4,
 "nbformat_minor": 2
}
