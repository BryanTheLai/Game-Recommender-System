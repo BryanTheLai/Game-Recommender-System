{
 "cells": [
  {
   "cell_type": "code",
   "execution_count": null,
   "metadata": {},
   "outputs": [],
   "source": [
    "import pickle\n",
    "import pandas as pd\n",
    "import os\n",
    "\n",
    "pd.set_option('display.max_columns', None)\n",
    "pd.set_option('display.max_rows', None)\n",
    "\n",
    "# Move up one level from 'notebooks/' to the project root\n",
    "BASE_DIR = os.path.abspath(os.path.join(os.getcwd(), \"..\"))\n",
    "\n",
    "recommendations_path = os.path.join(BASE_DIR, \"data/external/recommendations.csv\")\n",
    "recommendations_pd = pd.read_csv(recommendations_path) if os.path.exists(recommendations_path) else None\n",
    "\n",
    "model_filename = \"base_model_item_collaborative_filtering.pkl\" # Define a filename to save the model\n",
    "\n",
    "loaded_model = None \n",
    "\n",
    "with open(model_filename, 'rb') as file: \n",
    "    loaded_model = pickle.load(file) "
   ]
  }
 ],
 "metadata": {
  "language_info": {
   "name": "python"
  }
 },
 "nbformat": 4,
 "nbformat_minor": 2
}
